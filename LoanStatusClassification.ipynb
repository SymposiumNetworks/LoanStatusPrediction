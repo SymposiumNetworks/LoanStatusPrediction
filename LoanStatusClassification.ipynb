{
  "nbformat": 4,
  "nbformat_minor": 0,
  "metadata": {
    "colab": {
      "name": "LoanStatusClassification.ipynb",
      "provenance": [],
      "collapsed_sections": []
    },
    "kernelspec": {
      "name": "python3",
      "display_name": "Python 3"
    },
    "language_info": {
      "name": "python"
    }
  },
  "cells": [
    {
      "cell_type": "markdown",
      "metadata": {
        "id": "CDUbmKjSleyI"
      },
      "source": [
        "## Importing Required Libraries and Dependencies"
      ]
    },
    {
      "cell_type": "code",
      "metadata": {
        "id": "yyGMv3wflALc"
      },
      "source": [
        "import pandas as pd\n",
        "import numpy as np\n",
        "import matplotlib.pyplot as plt\n",
        "import seaborn as sns\n",
        "sns.set_style('whitegrid')\n",
        "import warnings\n",
        "warnings.filterwarnings('ignore')\n",
        "import gc\n",
        "from sklearn.model_selection import RandomizedSearchCV\n",
        "%matplotlib inline\n",
        "import datetime as dt\n",
        "import io\n",
        "from sklearn.linear_model import LogisticRegressionCV\n",
        "from sklearn.metrics import classification_report, accuracy_score, f1_score, confusion_matrix\n",
        "from time import process_time"
      ],
      "execution_count": 70,
      "outputs": []
    },
    {
      "cell_type": "markdown",
      "metadata": {
        "id": "ONlLQycol7A3"
      },
      "source": [
        "## Uploading dataset in to the environment"
      ]
    },
    {
      "cell_type": "code",
      "metadata": {
        "colab": {
          "resources": {
            "http://localhost:8080/nbextensions/google.colab/files.js": {
              "data": "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",
              "ok": true,
              "headers": [
                [
                  "content-type",
                  "application/javascript"
                ]
              ],
              "status": 200,
              "status_text": ""
            }
          },
          "base_uri": "https://localhost:8080/",
          "height": 73
        },
        "id": "25WGwN5il7UN",
        "outputId": "6a5a8cff-6816-447c-9e25-0afbd5347314"
      },
      "source": [
        "from google.colab import files\n",
        "uploaded = files.upload()"
      ],
      "execution_count": 17,
      "outputs": [
        {
          "output_type": "display_data",
          "data": {
            "text/html": [
              "\n",
              "     <input type=\"file\" id=\"files-98b5e87e-aa9f-418c-b4d4-730b8b39b9d7\" name=\"files[]\" multiple disabled\n",
              "        style=\"border:none\" />\n",
              "     <output id=\"result-98b5e87e-aa9f-418c-b4d4-730b8b39b9d7\">\n",
              "      Upload widget is only available when the cell has been executed in the\n",
              "      current browser session. Please rerun this cell to enable.\n",
              "      </output>\n",
              "      <script src=\"/nbextensions/google.colab/files.js\"></script> "
            ],
            "text/plain": [
              "<IPython.core.display.HTML object>"
            ]
          },
          "metadata": {}
        },
        {
          "output_type": "stream",
          "name": "stdout",
          "text": [
            "Saving 01_LoanStats3a_1.csv to 01_LoanStats3a_1.csv\n"
          ]
        }
      ]
    },
    {
      "cell_type": "markdown",
      "metadata": {
        "id": "UD63rDRDncXr"
      },
      "source": [
        "### Creating a copy of the dataset and dropping duplicate rows"
      ]
    },
    {
      "cell_type": "code",
      "metadata": {
        "id": "b3XoAIOrm72P"
      },
      "source": [
        "dataset = pd.read_csv(io.BytesIO(uploaded['01_LoanStats3a_1.csv']))\n",
        "df = dataset.copy(deep=True)\n",
        "df.drop_duplicates(subset=None, keep='first', inplace=True)"
      ],
      "execution_count": 28,
      "outputs": []
    },
    {
      "cell_type": "markdown",
      "metadata": {
        "id": "-MEZCvtFl8F8"
      },
      "source": [
        "### Keeping only relevant default and non default status which would help predicting customer who may default in future"
      ]
    },
    {
      "cell_type": "code",
      "metadata": {
        "colab": {
          "base_uri": "https://localhost:8080/"
        },
        "id": "soPM44dtl79C",
        "outputId": "a7e10f19-b72b-40fc-839e-edeac5c5d429"
      },
      "source": [
        "i = len(df)\n",
        "df = pd.DataFrame(df[df['loan_status'] != \"Does not meet the credit policy. Status:Fully Paid\"])\n",
        "df = pd.DataFrame(df[df['loan_status'] != \"Does not meet the credit policy. Status:Charged Off\"])\n",
        "df = pd.DataFrame(df[df['loan_status'] != \"Issued\"])\n",
        "df = pd.DataFrame(df[df['loan_status'] != \"In Grace Period\"])\n",
        "a = len(df)\n",
        "print(f\"We dropped {i-a} rows, a {((i-a)/((a+i)/2))*100}% reduction in rows\")"
      ],
      "execution_count": 29,
      "outputs": [
        {
          "output_type": "stream",
          "name": "stdout",
          "text": [
            "We dropped 2765 rows, a 6.718911366259644% reduction in rows\n"
          ]
        }
      ]
    },
    {
      "cell_type": "markdown",
      "metadata": {
        "id": "TESuCYPUozH4"
      },
      "source": [
        "### Creating the predictor / dependant / label variable for classification"
      ]
    },
    {
      "cell_type": "code",
      "metadata": {
        "id": "lkTfxggil8P3"
      },
      "source": [
        "conditions = [\n",
        "    (df['loan_status']=='Current')|(df['loan_status']=='Fully Paid')\n",
        "        ]\n",
        "\n",
        "# create a list of the values we want to assign for each condition\n",
        "values = [0]\n",
        "\n",
        "# create a new column and use np.select to assign values to it using our lists as arguments\n",
        "df['default'] = np.select(conditions, values,default=1)"
      ],
      "execution_count": 30,
      "outputs": []
    },
    {
      "cell_type": "markdown",
      "metadata": {
        "id": "RqMYDXmwpQ7B"
      },
      "source": [
        "### Creating the train test split before undertaking any variable transformation or data manipulation / correction activity"
      ]
    },
    {
      "cell_type": "code",
      "metadata": {
        "id": "BVE69fSBpREj"
      },
      "source": [
        "x=df.drop(['default'], axis=1)\n",
        "y=df['default']\n",
        "from sklearn.model_selection import train_test_split\n",
        "x_train, x_test, y_train, y_test = train_test_split(x, y, test_size=0.3, random_state=17)\n",
        "x_train.dropna(axis=1,how='all',inplace=True)\n",
        "x_test.dropna(axis=1,how='all',inplace=True)"
      ],
      "execution_count": 59,
      "outputs": []
    },
    {
      "cell_type": "markdown",
      "metadata": {
        "id": "B2ZJllNFyPAt"
      },
      "source": [
        "### Dropping variables with missing values in excess of 80 percentage"
      ]
    },
    {
      "cell_type": "code",
      "metadata": {
        "id": "u9vB-hkSyPK8"
      },
      "source": [
        "perc = 20.0\n",
        "min_count =  int(((100-perc)/100)*x_train.shape[0] + 1)\n",
        "x_train = x_train.dropna( axis=1,thresh=min_count)\n",
        "\n",
        "min_count =  int(((100-perc)/100)*x_test.shape[0] + 1)\n",
        "x_test = x_test.dropna( axis=1,thresh=min_count)"
      ],
      "execution_count": 60,
      "outputs": []
    },
    {
      "cell_type": "markdown",
      "metadata": {
        "id": "R9cWKv8iyPVV"
      },
      "source": [
        "### Dropping irrelevant variables"
      ]
    },
    {
      "cell_type": "code",
      "metadata": {
        "id": "spClGl8QyPhJ"
      },
      "source": [
        "x_train=x_train.drop(['title','policy_code','id','member_id','application_type','initial_list_status','zip_code','pymnt_plan','url','emp_title','collections_12_mths_ex_med','chargeoff_within_12_mths'],axis=1)\n",
        "x_test=x_test.drop(['title','policy_code','id','member_id','application_type','initial_list_status','zip_code','pymnt_plan','url','emp_title','collections_12_mths_ex_med','chargeoff_within_12_mths'],axis=1)"
      ],
      "execution_count": 61,
      "outputs": []
    },
    {
      "cell_type": "markdown",
      "metadata": {
        "id": "hOcy91l83nWG"
      },
      "source": [
        "### Data Manipulation for both test and train separately"
      ]
    },
    {
      "cell_type": "code",
      "metadata": {
        "id": "6KA5RZkiyPyT"
      },
      "source": [
        "x_train = x_train.drop(['loan_status','sub_grade','purpose','addr_state'], axis=1)\n",
        "x_train['issue_d']= pd.to_datetime(x_train['issue_d'], format=\"%b-%y\")\n",
        "x_train['last_pymnt_d']= pd.to_datetime(x_train['last_pymnt_d'].fillna('Mar-13'), format=\"%b-%y\")\n",
        "x_train['last_credit_pull_d']= pd.to_datetime(x_train['last_credit_pull_d'].fillna(\"Sep-16\"), format=\"%b-%y\")\n",
        "x_train['earliest_cr_line']= pd.to_datetime(x_train['earliest_cr_line'].fillna('Nov-98'), format=\"%b-%y\")\n",
        "x_train['issue_d']=x_train['issue_d'].apply(lambda x: x.toordinal())\n",
        "x_train['last_pymnt_d']=x_train['last_pymnt_d'].apply(lambda x: x.toordinal())\n",
        "x_train['last_credit_pull_d']=x_train['last_credit_pull_d'].apply(lambda x: x.toordinal())\n",
        "x_train['earliest_cr_line']=x_train['earliest_cr_line'].apply(lambda x: x.toordinal())\n",
        "x_train[\"emp_length\"] = [\"0.5\" if x == '< 1 year' else x for x in x_train[\"emp_length\"]]\n",
        "x_train['emp_length'].fillna(value=0,inplace=True)\n",
        "x_train['emp_length'].replace(to_replace='[^0-9]+', value='', inplace=True, regex=True)\n",
        "x_train['emp_length']=x_train['emp_length'].astype(float)\n",
        "x_train['int_rate'] = x_train['int_rate'].str.rstrip('%').astype(float) / 100.0\n",
        "x_train['revol_util'] = x_train['revol_util'].str.rstrip('%').astype(float) / 100.0\n",
        "x_train['term'] = x_train['term'].str.rstrip('months').astype(int)\n",
        "x_train=pd.get_dummies(x_train, prefix=['home_ownership', 'verification_status', 'grade'], columns=['home_ownership', 'verification_status', 'grade'])\n",
        "x_train=x_train.drop(['home_ownership_NONE','verification_status_Source Verified', 'grade_G'],axis=1)\n",
        "\n",
        "for i in x_train.columns[x_train.isnull().any(axis=0)]:\n",
        "    x_train[i].fillna(x_train[i].mean(),inplace=True)"
      ],
      "execution_count": 62,
      "outputs": []
    },
    {
      "cell_type": "code",
      "metadata": {
        "id": "hN6xJsau4E3K"
      },
      "source": [
        "x_test = x_test.drop(['loan_status','sub_grade','purpose','addr_state'], axis=1)\n",
        "x_test['issue_d']= pd.to_datetime(x_test['issue_d'], format=\"%b-%y\")\n",
        "x_test['last_pymnt_d']= pd.to_datetime(x_test['last_pymnt_d'].fillna('Mar-13'), format=\"%b-%y\")\n",
        "x_test['last_credit_pull_d']= pd.to_datetime(x_test['last_credit_pull_d'].fillna(\"Sep-16\"), format=\"%b-%y\")\n",
        "x_test['earliest_cr_line']= pd.to_datetime(x_test['earliest_cr_line'].fillna('Nov-98'), format=\"%b-%y\")\n",
        "x_test['issue_d']=x_test['issue_d'].apply(lambda x: x.toordinal())\n",
        "x_test['last_pymnt_d']=x_test['last_pymnt_d'].apply(lambda x: x.toordinal())\n",
        "x_test['last_credit_pull_d']=x_test['last_credit_pull_d'].apply(lambda x: x.toordinal())\n",
        "x_test['earliest_cr_line']=x_test['earliest_cr_line'].apply(lambda x: x.toordinal())\n",
        "x_test[\"emp_length\"] = [\"0.5\" if x == '< 1 year' else x for x in x_test[\"emp_length\"]]\n",
        "x_test['emp_length'].fillna(value=0,inplace=True)\n",
        "x_test['emp_length'].replace(to_replace='[^0-9]+', value='', inplace=True, regex=True)\n",
        "x_test['emp_length']=x_test['emp_length'].astype(float)\n",
        "x_test['int_rate'] = x_test['int_rate'].str.rstrip('%').astype(float) / 100.0\n",
        "x_test['revol_util'] = x_test['revol_util'].str.rstrip('%').astype(float) / 100.0\n",
        "x_test['term'] = x_test['term'].str.rstrip('months').astype(int)\n",
        "x_test=pd.get_dummies(x_test, prefix=['home_ownership', 'verification_status', 'grade'], columns=['home_ownership', 'verification_status', 'grade'])\n",
        "x_test=x_test.drop(['home_ownership_OTHER','verification_status_Source Verified', 'grade_G'],axis=1)\n",
        "\n",
        "for i in x_test.columns[x_test.isnull().any(axis=0)]:\n",
        "    x_test[i].fillna(x_test[i].mean(),inplace=True)"
      ],
      "execution_count": 63,
      "outputs": []
    },
    {
      "cell_type": "markdown",
      "metadata": {
        "id": "EdbGUFNc5P1G"
      },
      "source": [
        "### Fitting the Logistic Regression with Cross Validation to the data, not going to other complex algortihms for now"
      ]
    },
    {
      "cell_type": "code",
      "metadata": {
        "colab": {
          "base_uri": "https://localhost:8080/"
        },
        "id": "plbNXTiT5P-p",
        "outputId": "293980e6-8680-459f-ff9d-030e3549e7a8"
      },
      "source": [
        "x_train=x_train.drop(['home_ownership_OTHER'], axis=1)\n",
        "t1_start=process_time()\n",
        "clf = LogisticRegressionCV(random_state=17,class_weight='balanced',Cs=1,penalty='l2',max_iter=900,solver='newton-cg').fit(x_train,y_train)\n",
        "prediction=clf.predict(x_test)\n",
        "t1_stop=process_time()\n",
        "print(\"Time Lapsed: \",t1_stop-t1_start)"
      ],
      "execution_count": 65,
      "outputs": [
        {
          "output_type": "stream",
          "name": "stdout",
          "text": [
            "Time Lapsed:  99.439886102\n"
          ]
        }
      ]
    },
    {
      "cell_type": "code",
      "metadata": {
        "colab": {
          "base_uri": "https://localhost:8080/"
        },
        "id": "UcqHWRFL50wB",
        "outputId": "e0f47c67-3584-48ab-f3b5-2a63f451f98d"
      },
      "source": [
        "print(accuracy_score(prediction,y_test))\n",
        "print(confusion_matrix(prediction,y_test))\n",
        "print(classification_report(prediction,y_test))"
      ],
      "execution_count": 66,
      "outputs": [
        {
          "output_type": "stream",
          "name": "stdout",
          "text": [
            "0.9991618472885759\n",
            "[[10221     8]\n",
            " [    2  1700]]\n",
            "              precision    recall  f1-score   support\n",
            "\n",
            "           0       1.00      1.00      1.00     10229\n",
            "           1       1.00      1.00      1.00      1702\n",
            "\n",
            "    accuracy                           1.00     11931\n",
            "   macro avg       1.00      1.00      1.00     11931\n",
            "weighted avg       1.00      1.00      1.00     11931\n",
            "\n"
          ]
        }
      ]
    },
    {
      "cell_type": "markdown",
      "metadata": {
        "id": "KL2FVt5S7D_R"
      },
      "source": [
        "### Trying Hyper Paramter Optimization to understand best fitting parameters"
      ]
    },
    {
      "cell_type": "code",
      "metadata": {
        "colab": {
          "base_uri": "https://localhost:8080/"
        },
        "id": "6ep6u4V_7EKs",
        "outputId": "2a1a22cf-3b83-4e2d-ce68-71bd958bcc25"
      },
      "source": [
        "t1_start=process_time()\n",
        "#inverse of regularization strength\n",
        "Cs=[0.0001,0.001,0.01,0.1,1]\n",
        "#maximum number of iterations\n",
        "max_iter=[int(x) for x in np.linspace(start=100,stop=1000,num=10)]\n",
        "#solver\n",
        "solver=['newton-cg', 'lbfgs', 'liblinear', 'sag', 'saga']\n",
        "#penalty\n",
        "penalty=['l1', 'l2', 'none']\n",
        "#Create the random grid\n",
        "random_grid={'Cs': Cs,\n",
        "             'max_iter': max_iter,\n",
        "             'solver': solver,\n",
        "             'penalty': penalty\n",
        "             }\n",
        "clf=LogisticRegressionCV()\n",
        "clf_randomcv=RandomizedSearchCV(estimator=clf,param_distributions=random_grid,cv=5,verbose=2,\n",
        "                              random_state=17,n_jobs=-1)\n",
        "clf_randomcv.fit(x_train,y_train)\n",
        "t1_stop=process_time()\n",
        "print(\"Time Lapsed: \",t1_stop-t1_start)"
      ],
      "execution_count": 67,
      "outputs": [
        {
          "output_type": "stream",
          "name": "stdout",
          "text": [
            "Fitting 5 folds for each of 10 candidates, totalling 50 fits\n"
          ]
        },
        {
          "output_type": "stream",
          "name": "stderr",
          "text": [
            "[Parallel(n_jobs=-1)]: Using backend LokyBackend with 2 concurrent workers.\n",
            "[Parallel(n_jobs=-1)]: Done  50 out of  50 | elapsed:  4.4min finished\n"
          ]
        },
        {
          "output_type": "stream",
          "name": "stdout",
          "text": [
            "Time Lapsed:  128.67708510000003\n"
          ]
        }
      ]
    },
    {
      "cell_type": "code",
      "metadata": {
        "colab": {
          "base_uri": "https://localhost:8080/"
        },
        "id": "cQVW4HPA7wdy",
        "outputId": "20314f0b-a742-4a97-a5ca-6dc59645b78b"
      },
      "source": [
        "best_random_grid=clf_randomcv.best_estimator_\n",
        "y_pred=best_random_grid.predict(x_test)\n",
        "print(confusion_matrix(y_test,y_pred))\n",
        "print(classification_report(y_test,y_pred))\n",
        "print(accuracy_score(y_test,y_pred))"
      ],
      "execution_count": 68,
      "outputs": [
        {
          "output_type": "stream",
          "name": "stdout",
          "text": [
            "[[10223     0]\n",
            " [   11  1697]]\n",
            "              precision    recall  f1-score   support\n",
            "\n",
            "           0       1.00      1.00      1.00     10223\n",
            "           1       1.00      0.99      1.00      1708\n",
            "\n",
            "    accuracy                           1.00     11931\n",
            "   macro avg       1.00      1.00      1.00     11931\n",
            "weighted avg       1.00      1.00      1.00     11931\n",
            "\n",
            "0.9990780320174336\n"
          ]
        }
      ]
    },
    {
      "cell_type": "code",
      "metadata": {
        "colab": {
          "base_uri": "https://localhost:8080/"
        },
        "id": "XZx3oSEj74hq",
        "outputId": "e7db0dcc-46c0-47f5-b088-5b28ee8980e7"
      },
      "source": [
        "clf_randomcv.best_estimator_"
      ],
      "execution_count": 69,
      "outputs": [
        {
          "output_type": "execute_result",
          "data": {
            "text/plain": [
              "LogisticRegressionCV(Cs=1, class_weight=None, cv=None, dual=False,\n",
              "                     fit_intercept=True, intercept_scaling=1.0, l1_ratios=None,\n",
              "                     max_iter=900, multi_class='auto', n_jobs=None,\n",
              "                     penalty='l2', random_state=None, refit=True, scoring=None,\n",
              "                     solver='newton-cg', tol=0.0001, verbose=0)"
            ]
          },
          "metadata": {},
          "execution_count": 69
        }
      ]
    }
  ]
}